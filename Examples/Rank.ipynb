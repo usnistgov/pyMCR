{
 "cells": [
  {
   "cell_type": "markdown",
   "metadata": {},
   "source": [
    "# IND and ROD\n",
    "\n",
    "## Definition\n",
    "\n",
    "A work[1] used two indicators: IND and ROD. Both indicators are involved in the determination of the chemical rank for the target data matrices. IND and ROD are named after indicator and ratio-of-derivatives, respectively. The definitions of the indicators are shown in the following equations:\n",
    "\n",
    "$\n",
    "\\sum_{i=1}^N \\sum_{a=L+1}^A e_{i,a}^2 =  \\sum_{i=1}^N \\sum_{j=1}^M d_{i,j}^2 -  \\sum_{i=1}^N \\sum_{a=1}^L t_{i,a}^2  ,\n",
    "\\\\\n",
    "IND(L) = \\frac{ \\sqrt{ \\sum_{i=1}^N\\sum_{a=L+1}^A e_{i,a}^2  }}{ (N-L)^2 } ,\n",
    "\\\\\n",
    "ROD(L) = \\frac{IND(L-2) - IND(L-1)}{IND(L-1) - IND(L)} \\quad (L\\geq3),\n",
    "\\\\\n",
    "ROD(L) = 0 \\quad (L=1, 2),\n",
    "$\n",
    "\n",
    "where $e_{i,a}$, $d_{i,j}$, and $t_{i,a}$ denote PCA projection error, original spectral intensity, and PCA score respectively. $i$, $j$, and $a$ denote the index of sample, the index of wavelength, and the index of PCA score. $L$ denotes the number of components.\n",
    "\n",
    "(Note that the variance of the whole matrix after centering is equal to that of the whole PCA score matrix. Moreover, the reference shows the wrong equation. Based on the meanings of both variance of spectra matrix and variance of PCA scores, the equations above must be the correct one. )\n",
    "\n",
    "On another note, $IND(L-1) \\geq IND(L)$ is generally true because the remaining error IND(L) decrease monotonously along with $L$. Thus, ROD(L) basically takes non-negative value.\n",
    "\n",
    "Another old work has introduced various indicators including IND. The equations that appear in the first refernce have some mistakes; therefore, you may look into the second reference to see the accurate definition\n",
    "\n",
    "## Usage\n",
    "\n",
    "After computing IND or ROD, one can take the number of components that achieves either the minimum value of IND or the maximum value of ROD.\n",
    "\n",
    "[1] D. Tefera; et al. $\\it{Ind. Eng. Chem. Res.}$ 2017 vol: 56 pp: 10756-10769\n",
    "[2] A. Elbergali; et al. ${\\it Anal. Chim. Acta}$ 1999 vol: 379(1-2) pp: 143-158"
   ]
  },
  {
   "cell_type": "code",
   "execution_count": 1,
   "metadata": {},
   "outputs": [],
   "source": [
    "from pymcr import rank\n",
    "from scipy import io\n",
    "import numpy as np\n",
    "\n",
    "import requests\n",
    "import matplotlib\n",
    "matplotlib.rcParams['font.size'] = 24.0\n",
    "import matplotlib.pyplot as plt\n",
    "from warnings import filterwarnings# because Xmix has dtype('>f8')\n",
    "filterwarnings('ignore')\n",
    "%matplotlib inline"
   ]
  },
  {
   "cell_type": "code",
   "execution_count": 2,
   "metadata": {},
   "outputs": [],
   "source": [
    "url = 'http://www.eigenvector.com/data/tablets/nir_shootout_2002.mat'\n",
    "# Thanks to https://stackoverflow.com/questions/16694907/how-to-download-large-file-in-python-with-requests-py\n",
    "local_filename = 'nir_shootout_2002.mat'\n",
    "r = requests.get(url, stream=True)\n",
    "with open(local_filename, 'wb') as f:\n",
    "    for chunk in r.iter_content(chunk_size=1024): \n",
    "        if chunk: # filter out keep-alive new chunks\n",
    "            f.write(chunk)\n",
    "mat = io.loadmat('nir_shootout_2002.mat' )"
   ]
  },
  {
   "cell_type": "code",
   "execution_count": 3,
   "metadata": {},
   "outputs": [
    {
     "name": "stdout",
     "output_type": "stream",
     "text": [
      ">f8\n"
     ]
    }
   ],
   "source": [
    "for x in mat['calibrate_1'][0][0]:\n",
    "    if len(x) > 1:\n",
    "        if np.sum(x[0].shape)>2:\n",
    "            print(x.dtype)\n",
    "            Xmix = x\n",
    "        elif np.sum(x[0][0].shape) > 0:\n",
    "            index_samples = x[0][0]"
   ]
  },
  {
   "cell_type": "code",
   "execution_count": 4,
   "metadata": {},
   "outputs": [],
   "source": [
    "# Computation\n",
    "IND = rank.ind(Xmix)\n",
    "ROD = rank.rod(Xmix)"
   ]
  },
  {
   "cell_type": "code",
   "execution_count": 5,
   "metadata": {},
   "outputs": [
    {
     "data": {
      "image/png": "[encoded data removed]",
      "text/plain": [
       "<Figure size 432x288 with 1 Axes>"
      ]
     },
     "metadata": {},
     "output_type": "display_data"
    },
    {
     "data": {
      "image/png": "[encoded data removed]",
      "text/plain": [
       "<Figure size 432x288 with 1 Axes>"
      ]
     },
     "metadata": {},
     "output_type": "display_data"
    }
   ],
   "source": [
    "# Visualization\n",
    "plt.plot(np.arange(1, len(IND)+1), IND,'o-')\n",
    "plt.xlabel('number of component, $L$')\n",
    "plt.ylabel('IND')\n",
    "plt.show()\n",
    "\n",
    "plt.plot(np.arange(1, len(ROD)+1), ROD,'o-')\n",
    "plt.xlabel('number of components, $L$')\n",
    "plt.ylabel('ROD')\n",
    "plt.show()"
   ]
  },
  {
   "cell_type": "code",
   "execution_count": 6,
   "metadata": {},
   "outputs": [
    {
     "name": "stdout",
     "output_type": "stream",
     "text": [
      "6.37383170689348\n",
      "6.373863118233257\n"
     ]
    }
   ],
   "source": [
    "# ROD(L) when L=3\n",
    "print( (IND[0] - IND[1])/(IND[1] - IND[2]) )\n",
    "print( ROD[2] )"
   ]
  },
  {
   "cell_type": "code",
   "execution_count": 7,
   "metadata": {},
   "outputs": [
    {
     "name": "stdout",
     "output_type": "stream",
     "text": [
      "3 components are hidden in the `Xmix`\n",
      "56 components are hidden in the `Xmix`\n"
     ]
    }
   ],
   "source": [
    "print('{} components are hidden in the `Xmix`'.format(np.argmax(ROD)+1))\n",
    "print('{} components are hidden in the `Xmix`'.format(np.argmin(IND)+1))"
   ]
  }
 ],
 "metadata": {
  "kernelspec": {
   "display_name": "Python 3",
   "language": "python",
   "name": "python3"
  },
  "language_info": {
   "codemirror_mode": {
    "name": "ipython",
    "version": 3
   },
   "file_extension": ".py",
   "mimetype": "text/x-python",
   "name": "python",
   "nbconvert_exporter": "python",
   "pygments_lexer": "ipython3",
   "version": "3.6.0"
  }
 },
 "nbformat": 4,
 "nbformat_minor": 2
}
